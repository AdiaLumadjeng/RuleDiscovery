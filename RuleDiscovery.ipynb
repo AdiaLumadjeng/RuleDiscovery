{
 "cells": [
  {
   "cell_type": "markdown",
   "metadata": {},
   "source": [
    "# Rule Discovery with RUX and RUG\n",
    "\n",
    "In this short note, we use two standard datasets to demonstrate how to use Rule Extractor (RUX) and the rule generator (RUG) algorithms. First we start with importing the necessary packages that we will use in this note. Note that both RUX and RUG are imported from `rulediscovery`."
   ]
  },
  {
   "cell_type": "code",
   "execution_count": 1,
   "metadata": {},
   "outputs": [],
   "source": [
    "import numpy as np\n",
    "import pandas as pd\n",
    "import Datasets as DS\n",
    "from sklearn.metrics import accuracy_score\n",
    "from sklearn.ensemble import RandomForestClassifier, AdaBoostClassifier\n",
    "from sklearn.tree import DecisionTreeClassifier\n",
    "from sklearn.model_selection import train_test_split \n",
    "from rulediscovery import RUXClassifier, RUGClassifier"
   ]
  },
  {
   "cell_type": "markdown",
   "metadata": {},
   "source": [
    "## Seeds Dataset\n",
    "\n",
    "You can find this dataset and its description on [this page](https://archive.ics.uci.edu/ml/datasets/seeds). This dataset has 210 samples with seven features and three classes. The very last column of the dataframe gives the class labels."
   ]
  },
  {
   "cell_type": "code",
   "execution_count": 2,
   "metadata": {},
   "outputs": [
    {
     "name": "stdout",
     "output_type": "stream",
     "text": [
      "Number of samples:  210\n",
      "number of features:  7\n",
      "Number of classes:  3\n"
     ]
    }
   ],
   "source": [
    "df = np.array(DS.seeds('datasets/'))\n",
    "X = df[:, 0:-1]\n",
    "y = df[:, -1]\n",
    "print('Number of samples: ', len(y))\n",
    "print('number of features: ', len(X[0,:]))\n",
    "print('Number of classes: ', len(np.unique(y)))"
   ]
  },
  {
   "cell_type": "markdown",
   "metadata": {},
   "source": [
    "To use RUX for interpretation, we first train a Random Forest model and an AdaBoost model. The depth of the trees in both ensemble methods are set to three."
   ]
  },
  {
   "cell_type": "code",
   "execution_count": 3,
   "metadata": {},
   "outputs": [],
   "source": [
    "maxDepth = 3\n",
    "\n",
    "# Random Forest\n",
    "RF = RandomForestClassifier(max_depth=maxDepth)\n",
    "RF_fit = RF.fit(X, y)\n",
    "RF_pred = RF_fit.predict(X)\n",
    "\n",
    "# AdaBoost\n",
    "ADA = AdaBoostClassifier(n_estimators=100, algorithm='SAMME', base_estimator=DecisionTreeClassifier(max_depth=maxDepth))\n",
    "ADA_fit = ADA.fit(X, y)\n",
    "ADA_pred = ADA_fit.predict(X)"
   ]
  },
  {
   "cell_type": "markdown",
   "metadata": {},
   "source": [
    "Next, we use RUX to discover the most prominent rules within each ensemble for interpretation. Note that RUX works with a trained model. In its current version, RUX admits either a trained Random Forest model with the parameter `rf` or a trained AdaBoost model with the parameter `ada`. While interpreting the trained Random Forest model, we use the rule length as a cost parameter. Likewise, for the trained AdaBoost model, we use the inverse of the tree weights in the ensemble (the higher the weight of a tree, the less the cost of the rule coming from that tree)."
   ]
  },
  {
   "cell_type": "code",
   "execution_count": 4,
   "metadata": {},
   "outputs": [],
   "source": [
    "ruleLengthCost = True\n",
    "useAdaWeights = True\n",
    "\n",
    "#RUXRF\n",
    "RUXRF = RUXClassifier(rf=RF_fit, rule_length_cost=ruleLengthCost)\n",
    "RUXRF_fit = RUXRF.fit(X, y)\n",
    "RUXRF_pred = RUXRF.predict(X)\n",
    "\n",
    "#RUXADA\n",
    "RUXADA = RUXClassifier(ada=ADA_fit, use_ada_weights=useAdaWeights)\n",
    "RUXADA_fit = RUXADA.fit(X, y)\n",
    "RUXADA_pred = RUXADA.predict(X)"
   ]
  },
  {
   "cell_type": "markdown",
   "metadata": {},
   "source": [
    "Our second algorithm RUG itself is a classifier that can be trained like other learning algorithms."
   ]
  },
  {
   "cell_type": "code",
   "execution_count": 5,
   "metadata": {},
   "outputs": [],
   "source": [
    "#RUG\n",
    "RUG = RUGClassifier(max_depth=maxDepth, rule_length_cost=ruleLengthCost)\n",
    "RUG_fit = RUG.fit(X, y)\n",
    "RUG_pred = RUG.predict(X)"
   ]
  },
  {
   "cell_type": "markdown",
   "metadata": {},
   "source": [
    "Here are the accuracies that we obtain with all algorithms."
   ]
  },
  {
   "cell_type": "code",
   "execution_count": 6,
   "metadata": {},
   "outputs": [
    {
     "name": "stdout",
     "output_type": "stream",
     "text": [
      "## Accuracy Scores ##\n",
      "Random Forest:  0.9428571428571428\n",
      "AdaBoost:  1.0\n",
      "RUXRF:  1.0\n",
      "RUXADA:  1.0\n",
      "RUG:  0.9428571428571428\n"
     ]
    }
   ],
   "source": [
    "print('## Accuracy Scores ##')\n",
    "print('Random Forest: ', accuracy_score(RF_pred, y))\n",
    "print('AdaBoost: ', accuracy_score(ADA_pred, y)) \n",
    "print('RUXRF: ', accuracy_score(RUXRF_pred, y))\n",
    "print('RUXADA: ', accuracy_score(RUXADA_pred, y))\n",
    "print('RUG: ', accuracy_score(RUG_pred, y))"
   ]
  },
  {
   "cell_type": "markdown",
   "metadata": {},
   "source": [
    "As you can see, we obtain quite good accuracies with all the methods. Let's see the total number of rules each method produces."
   ]
  },
  {
   "cell_type": "code",
   "execution_count": 7,
   "metadata": {},
   "outputs": [
    {
     "name": "stdout",
     "output_type": "stream",
     "text": [
      "## Number of Rules ##\n",
      "Random Forest:  691\n",
      "AdaBoost:  744\n",
      "RUXRF:  21\n",
      "RUXADA:  28\n",
      "RUG:  9\n"
     ]
    }
   ],
   "source": [
    "print('## Number of Rules ##')\n",
    "print('Random Forest: ', RUXRF.getInitNumOfRules())\n",
    "print('AdaBoost: ', RUXADA.getInitNumOfRules())\n",
    "print('RUXRF: ', RUXRF.getNumOfRules())\n",
    "print('RUXADA: ', RUXADA.getNumOfRules())\n",
    "print('RUG: ', RUG.getNumOfRules())"
   ]
  },
  {
   "cell_type": "markdown",
   "metadata": {},
   "source": [
    "RUX and RUG models produce significantly less number of rules than the ensemble methods. \n",
    "\n",
    "So far, we have used the entire dataset for training. Let's get a glimpse of the generalization performances of the above methods. To serve this purpose, we split the data into train-test sets."
   ]
  },
  {
   "cell_type": "code",
   "execution_count": 8,
   "metadata": {},
   "outputs": [
    {
     "name": "stdout",
     "output_type": "stream",
     "text": [
      "## Accuracy Scores ##\n",
      "Random Forest:  0.8412698412698413\n",
      "AdaBoost:  0.9523809523809523\n",
      "RUXRF:  0.9047619047619048\n",
      "RUXADA:  0.9206349206349206\n",
      "RUG:  0.9206349206349206\n",
      "\n",
      "## Number of Rules ##\n",
      "Random Forest:  614\n",
      "AdaBoost:  742\n",
      "RUXRF:  19\n",
      "RUXADA:  20\n",
      "RUG:  24\n"
     ]
    }
   ],
   "source": [
    "X_train, X_test, y_train, y_test = train_test_split(X, y, test_size=0.3)\n",
    "\n",
    "# Random Forest\n",
    "RF = RandomForestClassifier(max_depth=maxDepth)\n",
    "RF_fit = RF.fit(X_train, y_train)\n",
    "RF_pred = RF_fit.predict(X_test)\n",
    "\n",
    "# AdaBoost\n",
    "ADA = AdaBoostClassifier(n_estimators=100, algorithm='SAMME', base_estimator=DecisionTreeClassifier(max_depth=maxDepth))\n",
    "ADA_fit = ADA.fit(X_train, y_train)\n",
    "ADA_pred = ADA_fit.predict(X_test)\n",
    "\n",
    "#RUXRF\n",
    "RUXRF = RUXClassifier(rf=RF_fit, rule_length_cost=ruleLengthCost)\n",
    "RUXRF_fit = RUXRF.fit(X_train, y_train)\n",
    "RUXRF_pred = RUXRF.predict(X_test)\n",
    "\n",
    "#RUXADA\n",
    "RUXADA = RUXClassifier(ada=ADA_fit, use_ada_weights=useAdaWeights)\n",
    "RUXADA_fit = RUXADA.fit(X_train, y_train)\n",
    "RUXADA_pred = RUXADA.predict(X_test)\n",
    "\n",
    "#RUG\n",
    "RUG = RUGClassifier(max_depth=maxDepth)\n",
    "RUG_fit = RUG.fit(X_train, y_train)\n",
    "RUG_pred = RUG.predict(X_test)\n",
    "\n",
    "print('## Accuracy Scores ##')\n",
    "print('Random Forest: ', accuracy_score(RF_pred, y_test))\n",
    "print('AdaBoost: ', accuracy_score(ADA_pred, y_test)) \n",
    "print('RUXRF: ', accuracy_score(RUXRF_pred, y_test))\n",
    "print('RUXADA: ', accuracy_score(RUXADA_pred, y_test))\n",
    "print('RUG: ', accuracy_score(RUG_pred, y_test))\n",
    "\n",
    "print('\\n## Number of Rules ##')\n",
    "print('Random Forest: ', RUXRF.getInitNumOfRules())\n",
    "print('AdaBoost: ', RUXADA.getInitNumOfRules())\n",
    "print('RUXRF: ', RUXRF.getNumOfRules())\n",
    "print('RUXADA: ', RUXADA.getNumOfRules())\n",
    "print('RUG: ', RUG.getNumOfRules())"
   ]
  },
  {
   "cell_type": "markdown",
   "metadata": {},
   "source": [
    "We can also look at the discovered rules. Here are the **first five** rules sorted in descending order of weights."
   ]
  },
  {
   "cell_type": "code",
   "execution_count": 9,
   "metadata": {},
   "outputs": [
    {
     "name": "stdout",
     "output_type": "stream",
     "text": [
      "RULE 0:\n",
      "4.79 < x[6] <= 5.60\n",
      "x[0] <= 13.11\n",
      "\n",
      "Class: 2\n",
      "Scaled rule weight: 1.0000\n",
      "\n",
      "RULE 1:\n",
      "2.50 < x[5] <= 4.49\n",
      "x[0] > 15.24\n",
      "\n",
      "Class: 1\n",
      "Scaled rule weight: 0.5171\n",
      "\n",
      "RULE 2:\n",
      "x[4] <= 3.53\n",
      "x[5] <= 3.57\n",
      "\n",
      "Class: 0\n",
      "Scaled rule weight: 0.4156\n",
      "\n",
      "RULE 3:\n",
      "x[2] <= 0.90\n",
      "x[6] > 5.14\n",
      "x[1] > 13.73\n",
      "\n",
      "Class: 1\n",
      "Scaled rule weight: 0.4099\n",
      "\n",
      "RULE 4:\n",
      "x[0] <= 13.65\n",
      "x[4] > 2.94\n",
      "\n",
      "Class: 2\n",
      "Scaled rule weight: 0.3934\n",
      "\n"
     ]
    }
   ],
   "source": [
    "RUG.printRules(indices=range(5))"
   ]
  },
  {
   "cell_type": "markdown",
   "metadata": {},
   "source": [
    "## Banknote Dataset\n",
    "\n",
    "The details of this dataset are given on [this page](https://archive.ics.uci.edu/ml/datasets/banknote+authentication). There are 1,372 samples with four features. Each sample is labeled as a genuine or a forged banknote (binary classification)."
   ]
  },
  {
   "cell_type": "code",
   "execution_count": 10,
   "metadata": {},
   "outputs": [],
   "source": [
    "df = np.array(DS.banknote('datasets/'))\n",
    "X = df[:, 0:-1]\n",
    "y = df[:, -1]\n",
    " \n",
    "X_train, X_test, y_train, y_test = train_test_split(X, y, test_size=0.3)    \n",
    "\n",
    "maxDepth = 3\n",
    "\n",
    "# Random Forest\n",
    "RF = RandomForestClassifier(max_depth=3)\n",
    "RF_fit = RF.fit(X_train, y_train)\n",
    "RF_pred = RF_fit.predict(X_test)\n",
    "\n",
    "# AdaBoost\n",
    "ADA = AdaBoostClassifier(n_estimators=100, algorithm='SAMME', base_estimator=DecisionTreeClassifier(max_depth=3))\n",
    "ADA_fit = ADA.fit(X_train, y_train)\n",
    "ADA_pred = ADA_fit.predict(X_test)\n",
    "\n",
    "#RUXRF\n",
    "RUXRF = RUXClassifier(rf=RF_fit, rule_length_cost=ruleLengthCost)\n",
    "RUXRF_fit = RUXRF.fit(X_train, y_train)\n",
    "RUXRF_pred = RUXRF.predict(X_test)\n",
    "\n",
    "#RUXADA\n",
    "RUXADA = RUXClassifier(ada=ADA_fit, use_ada_weights=useAdaWeights)\n",
    "RUXADA_fit = RUXADA.fit(X_train, y_train)\n",
    "RUXADA_pred = RUXADA.predict(X_test)\n",
    "\n",
    "#RUG\n",
    "RUG = RUGClassifier(max_depth=maxDepth, rule_length_cost=ruleLengthCost)\n",
    "RUG_fit = RUG.fit(X_train, y_train)\n",
    "RUG_pred = RUG.predict(X_test)"
   ]
  },
  {
   "cell_type": "code",
   "execution_count": 11,
   "metadata": {},
   "outputs": [
    {
     "name": "stdout",
     "output_type": "stream",
     "text": [
      "## Accuracy Scores ##\n",
      "Random Forest:  0.9223300970873787\n",
      "AdaBoost:  0.9951456310679612\n",
      "RUXRF:  0.9854368932038835\n",
      "RUXADA:  0.9902912621359223\n",
      "RUG:  0.9878640776699029\n",
      "\n",
      "## Number of Rules ##\n",
      "Random Forest:  715\n",
      "AdaBoost:  757\n",
      "RUXRF:  25\n",
      "RUXADA:  43\n",
      "RUG:  13\n"
     ]
    }
   ],
   "source": [
    "print('## Accuracy Scores ##')\n",
    "print('Random Forest: ', accuracy_score(RF_pred, y_test))\n",
    "print('AdaBoost: ', accuracy_score(ADA_pred, y_test)) \n",
    "print('RUXRF: ', accuracy_score(RUXRF_pred, y_test))\n",
    "print('RUXADA: ', accuracy_score(RUXADA_pred, y_test))\n",
    "print('RUG: ', accuracy_score(RUG_pred, y_test))\n",
    "\n",
    "print('\\n## Number of Rules ##')\n",
    "print('Random Forest: ', RUXRF.getInitNumOfRules())\n",
    "print('AdaBoost: ', RUXADA.getInitNumOfRules())\n",
    "print('RUXRF: ', RUXRF.getNumOfRules())\n",
    "print('RUXADA: ', RUXADA.getNumOfRules())\n",
    "print('RUG: ', RUG.getNumOfRules())"
   ]
  },
  {
   "cell_type": "markdown",
   "metadata": {},
   "source": [
    "Although RUG discovers 13 rules, we can look at the **first ten rules** sorted in terms of their weights. Using these these ten rules, we can also check how would the accuracy have changed, if we had constructed different subsets in a nested manner by adding one more rule each time. Note that the `predict` function of RUG can also be used with only a subset of the discovered rules (see the comment in the below code snippet). This construction allows us to give an _interpretation plot_."
   ]
  },
  {
   "cell_type": "code",
   "execution_count": 12,
   "metadata": {},
   "outputs": [
    {
     "data": {
      "image/png": "[encoded data removed]",
      "text/plain": [
       "<Figure size 432x288 with 2 Axes>"
      ]
     },
     "metadata": {
      "needs_background": "light"
     },
     "output_type": "display_data"
    }
   ],
   "source": [
    "import matplotlib.pyplot as plt\n",
    "import seaborn as sns\n",
    "\n",
    "selectedRuleNum = 10 \n",
    "\n",
    "weights = np.round(RUG.getWeights()[:selectedRuleNum], decimals=2)\n",
    "accuracies = []\n",
    "coverages = []\n",
    "\n",
    "for indx in range(min(selectedRuleNum, RUG.getNumOfRules())):\n",
    "    # Use only the first indx+1 many rules for prediction\n",
    "    RUG_pred_test = RUG.predict(X_test, range(indx+1))\n",
    "    accuracies.append(accuracy_score(RUG_pred_test, y_test))\n",
    "    coverages.append(RUG.getNumOfMissed())\n",
    "    \n",
    "accuracies = np.round(accuracies, decimals=3)\n",
    "coverages = np.round(1.0-(np.array(coverages)/len(y)), decimals=2)*100\n",
    "coverages = np.round(coverages, decimals=1)\n",
    "txtmisses = [str(cover)+'%' for cover in coverages]\n",
    "\n",
    "\n",
    "# Plotting\n",
    "data = {'Rules': [indx+1 for indx in range(len(accuracies))],\n",
    "        'Weights': weights,\n",
    "        'Coverages': coverages,\n",
    "        'Accuracies': accuracies}\n",
    "\n",
    "df = pd.DataFrame(data, columns=data.keys())\n",
    "\n",
    "fig, ax1 = plt.subplots()\n",
    "sns.color_palette('pastel')\n",
    "\n",
    "bars = sns.barplot(data=df, x='Rules', y=weights, ax=ax1, \n",
    "                   color='green', alpha=0.3)\n",
    "\n",
    "for indx, txtmiss in enumerate(txtmisses):\n",
    "    bars.annotate(txtmiss, xy=(indx, weights[indx]+0.02), \n",
    "                  color='purple', horizontalalignment='center',\n",
    "                  fontsize=8)\n",
    "\n",
    "bars.axhline(1.0, color='lightgray', linestyle='--')\n",
    "    \n",
    "ax1.set_ylabel('Rule Weight', color='darkgreen')\n",
    "ax1.set_ylim([0.0, 1.1])\n",
    "\n",
    "ax2 = ax1.twinx()\n",
    "\n",
    "sns.pointplot(data=df, x='Rules', y='Accuracies', ax=ax2)\n",
    "ax2.set_ylabel('Accuracy', color='darkblue')\n",
    "ax2.set_ylim(ax1.get_ylim())\n",
    "ax2.grid(False)\n",
    "\n",
    "fig.tight_layout()"
   ]
  },
  {
   "cell_type": "markdown",
   "metadata": {},
   "source": [
    "This interpretation plot shows that RUG reaches a high accuracy with the first 10 rules that are ordered in terms of their normalized weights (bar heights). The percentages show the\n",
    "cumulative fractions of the samples covered after adding each rule."
   ]
  }
 ],
 "metadata": {
  "kernelspec": {
   "display_name": "Python 3",
   "language": "python",
   "name": "python3"
  },
  "language_info": {
   "codemirror_mode": {
    "name": "ipython",
    "version": 3
   },
   "file_extension": ".py",
   "mimetype": "text/x-python",
   "name": "python",
   "nbconvert_exporter": "python",
   "pygments_lexer": "ipython3",
   "version": "3.8.8"
  }
 },
 "nbformat": 4,
 "nbformat_minor": 4
}
